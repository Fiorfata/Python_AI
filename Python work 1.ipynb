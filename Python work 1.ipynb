{
 "cells": [
  {
   "cell_type": "markdown",
   "metadata": {},
   "source": [
    "Поиск по артисту"
   ]
  },
  {
   "cell_type": "code",
   "execution_count": 1,
   "metadata": {},
   "outputs": [],
   "source": [
    "import requests, json, urllib.parse"
   ]
  },
  {
   "cell_type": "code",
   "execution_count": 2,
   "metadata": {},
   "outputs": [],
   "source": [
    "base_url = 'https://itunes.apple.com/search'\n",
    "\n",
    "artist = 'Billy Joel'\n",
    "\n",
    "params = {\n",
    "    'term': artist,\n",
    "    'limit': 200,\n",
    "    'media': 'music',\n",
    "    'entity': 'song',\n",
    "    'attribute': 'artistTerm'\n",
    "}\n",
    "\n",
    "response = requests.get(f\"{base_url}?{urllib.parse.urlencode(params)}\")\n",
    "\n",
    "data = json.loads(response.text)\n",
    "data = data['results']"
   ]
  },
  {
   "cell_type": "code",
   "execution_count": 3,
   "metadata": {},
   "outputs": [
    {
     "name": "stdout",
     "output_type": "stream",
     "text": [
      "['wrapperType', 'kind', 'artistId', 'collectionId', 'trackId', 'artistName', 'collectionName', 'trackName', 'collectionCensoredName', 'trackCensoredName', 'artistViewUrl', 'collectionViewUrl', 'trackViewUrl', 'previewUrl', 'artworkUrl30', 'artworkUrl60', 'artworkUrl100', 'collectionPrice', 'trackPrice', 'releaseDate', 'collectionExplicitness', 'trackExplicitness', 'discCount', 'discNumber', 'trackCount', 'trackNumber', 'trackTimeMillis', 'country', 'currency', 'primaryGenreName', 'isStreamable']\n"
     ]
    }
   ],
   "source": [
    "print(list(data[0].keys()))"
   ]
  },
  {
   "cell_type": "code",
   "execution_count": 4,
   "metadata": {},
   "outputs": [],
   "source": [
    "import dateutil.parser\n",
    "data = map(lambda x: {**x, 'releaseDate': dateutil.parser.isoparse(x['releaseDate'])}, data)\n",
    "data = list(data)"
   ]
  },
  {
   "cell_type": "markdown",
   "metadata": {},
   "source": [
    "Первичная очистка данных"
   ]
  },
  {
   "cell_type": "code",
   "execution_count": 5,
   "metadata": {},
   "outputs": [
    {
     "name": "stdout",
     "output_type": "stream",
     "text": [
      "['artistId', 'collectionId', 'trackId', 'artistName', 'collectionName', 'trackName', 'collectionPrice', 'trackPrice', 'releaseDate', 'collectionExplicitness', 'trackExplicitness', 'discCount', 'discNumber', 'trackCount', 'trackNumber', 'trackTimeMillis', 'country', 'currency', 'primaryGenreName', 'isStreamable']\n"
     ]
    }
   ],
   "source": [
    "data = map(lambda x: {\n",
    "    'artistId': x['artistId'],\n",
    "    'collectionId': x['collectionId'],\n",
    "    'trackId': x['trackId'],\n",
    "    'artistName': x['artistName'],\n",
    "    'collectionName': x['collectionCensoredName'],\n",
    "    'trackName': x['trackCensoredName'],\n",
    "    'collectionPrice': x['collectionPrice'],\n",
    "    'trackPrice': x['trackPrice'],\n",
    "    'releaseDate': x['releaseDate'],\n",
    "    'collectionExplicitness': x['collectionExplicitness'],\n",
    "    'trackExplicitness': x['trackExplicitness'],\n",
    "    'discCount': x['discCount'],\n",
    "    'discNumber': x['discNumber'],\n",
    "    'trackCount': x['trackCount'],\n",
    "    'trackNumber': x['trackNumber'],\n",
    "    'trackTimeMillis': x['trackTimeMillis'],\n",
    "    'country': x['country'],\n",
    "    'currency': x['currency'],\n",
    "    'primaryGenreName': x['primaryGenreName'],\n",
    "    'isStreamable': x['isStreamable']\n",
    "}, data)\n",
    "data = list(data)\n",
    "print(list(data[0].keys()))"
   ]
  },
  {
   "cell_type": "markdown",
   "metadata": {},
   "source": [
    "Перевод милисекунд в {часы}:{минуты}:{секунды}"
   ]
  },
  {
   "cell_type": "code",
   "execution_count": 6,
   "metadata": {},
   "outputs": [],
   "source": [
    "def convert_millis(millis: int) -> str:\n",
    "    total_seconds = millis // 1000\n",
    "    seconds = total_seconds % 60\n",
    "    minutes = (total_seconds // 60) % 60\n",
    "    hours = (total_seconds // (60 * 60))\n",
    "    return f\"{hours}H{minutes}M{seconds}S\""
   ]
  },
  {
   "cell_type": "markdown",
   "metadata": {},
   "source": [
    "Статистика по исполнителю из полученной выборки данных"
   ]
  },
  {
   "cell_type": "code",
   "execution_count": 7,
   "metadata": {},
   "outputs": [
    {
     "name": "stdout",
     "output_type": "stream",
     "text": [
      "{'Billy Joel'}\n"
     ]
    }
   ],
   "source": [
    "Artist = lambda x: x['artistName']\n",
    "print(set(map(Artist, data)))"
   ]
  },
  {
   "cell_type": "code",
   "execution_count": 8,
   "metadata": {},
   "outputs": [],
   "source": [
    "data = filter(lambda x: artist.lower() in x['artistName'].lower(), data)\n",
    "data = list(data)"
   ]
  },
  {
   "cell_type": "code",
   "execution_count": 9,
   "metadata": {},
   "outputs": [
    {
     "name": "stdout",
     "output_type": "stream",
     "text": [
      "Count of songs: 200\n"
     ]
    }
   ],
   "source": [
    "Count = lambda x: x['trackName']\n",
    "Count_Of_Songs = len(list(map(Count, data)))\n",
    "print('Count of songs:', Count_Of_Songs)"
   ]
  },
  {
   "cell_type": "code",
   "execution_count": 10,
   "metadata": {},
   "outputs": [
    {
     "name": "stdout",
     "output_type": "stream",
     "text": [
      "Most popular genre: Pop - 120\n"
     ]
    }
   ],
   "source": [
    "Genre = lambda x: x['primaryGenreName']\n",
    "Popular_Genre = (list((map(Genre, data))))\n",
    "if Popular_Genre.count('Pop') > Popular_Genre.count('Rock'):\n",
    "    print('Most popular genre:','Pop -', Popular_Genre.count('Pop'))\n",
    "else:\n",
    "    print('Most popular genre:','Rock -', Popular_Genre.count('Rock'))"
   ]
  },
  {
   "cell_type": "code",
   "execution_count": 14,
   "metadata": {},
   "outputs": [
    {
     "name": "stdout",
     "output_type": "stream",
     "text": [
      "Album count: 20\n"
     ]
    }
   ],
   "source": [
    "Album = lambda x: x['collectionId']\n",
    "Album_count = len(list(set(map(Album, data))))\n",
    "print('Album count:', Album_count)"
   ]
  },
  {
   "cell_type": "code",
   "execution_count": 15,
   "metadata": {},
   "outputs": [
    {
     "name": "stdout",
     "output_type": "stream",
     "text": [
      "Duration of songs: 14H41M16S\n",
      "Average duration of songs: 0.0H4.0M24.0S\n",
      "Mediana of songs: 0.0H4.0M7.0S\n",
      "Longest song: Scenes from an Italian Restaurant 0H7M35S\n",
      "Shortest song: Invention In C minor 0H1M4S\n"
     ]
    }
   ],
   "source": [
    "time_extractor = lambda x: x['trackTimeMillis']\n",
    "\n",
    "Duration_of_songs = sum(list(map(time_extractor, data)))\n",
    "print('Duration of songs:', convert_millis(Duration_of_songs))\n",
    "\n",
    "Average_duration = Duration_of_songs / Count_Of_Songs\n",
    "print('Average duration of songs:', convert_millis(Average_duration))\n",
    "\n",
    "Median_time = list(map(time_extractor, data))\n",
    "import statistics\n",
    "print('Mediana of songs:', convert_millis(statistics.median(Median_time)))\n",
    "\n",
    "longest_song = max(data, key=time_extractor)\n",
    "print('Longest song:', longest_song['trackName'], convert_millis(longest_song['trackTimeMillis']))\n",
    "\n",
    "shortest_song = min(data, key=time_extractor)\n",
    "print('Shortest song:', shortest_song['trackName'], convert_millis(shortest_song['trackTimeMillis']))\n"
   ]
  },
  {
   "cell_type": "code",
   "execution_count": 16,
   "metadata": {},
   "outputs": [
    {
     "name": "stdout",
     "output_type": "stream",
     "text": [
      "Price of all songs: 248.83999999999952 $\n",
      "Average price of songs: 1.2441999999999975 $\n",
      "Median of songs cost: 1.29 $\n",
      "Expensive song: Piano Man 1.29 $\n",
      "Cheap song: Miami 2017 (I've Seen the Lights Go Out On Broadway) [Live] Free\n"
     ]
    }
   ],
   "source": [
    "Song_cost = lambda x: x['trackPrice']\n",
    "\n",
    "All_price = sum(list(map(Song_cost, data)))\n",
    "print('Price of all songs:', All_price, '$')\n",
    "\n",
    "Average_price = All_price / Count_Of_Songs\n",
    "print('Average price of songs:', Average_price, '$')\n",
    "\n",
    "Median_cost = list(map(Song_cost, data))\n",
    "import statistics\n",
    "print('Median of songs cost:', statistics.median(Median_cost), '$')\n",
    "\n",
    "Expensive_song = max(data, key=Song_cost)\n",
    "print('Expensive song:', Expensive_song['trackName'], Expensive_song['trackPrice'],'$')\n",
    "\n",
    "Cheap_song = min(data, key=Song_cost)\n",
    "if Cheap_song['trackPrice'] == -1 : \n",
    "    print('Cheap song:', Cheap_song['trackName'],'Free')\n",
    "else:\n",
    "    print('Cheap song:', Cheap_song['trackName'], Cheap_song['trackPrice'], '$')"
   ]
  },
  {
   "cell_type": "markdown",
   "metadata": {},
   "source": [
    "Статистика по альбомам исполнителя из полученной выборки данных"
   ]
  },
  {
   "cell_type": "code",
   "execution_count": 24,
   "metadata": {},
   "outputs": [
    {
     "name": "stdout",
     "output_type": "stream",
     "text": [
      "{157506242: 'The Nylon Curtain', 158617297: 'Piano Man', 158617952: 'The Stranger', 158618393: 'Glass Houses', 158618758: 'Storm Front', 158619540: 'River of Dreams', 158625840: '12 Gardens Live', 158815463: 'The Essential Billy Joel', 190412464: 'Songs In the Attic (Live)', 192816208: 'The Bridge', 217360639: 'Greatest Hits, Vol. 3', 259213439: 'Turnstiles', 259573387: '52nd Street', 259814641: 'An Innocent Man', 275318699: \"Now That's What I Call the 80's\", 383633357: 'My Lives', 401938490: 'The Hits', 585701590: '12-12-12 The Concert for Sandy Relief', 794025628: 'The Complete Albums Collection', 1461891971: 'Greatest Hits, Volume I & Volume II'}\n"
     ]
    }
   ],
   "source": [
    "from itertools import groupby\n",
    "\n",
    "collection_id_extractor = lambda x: x['collectionId']\n",
    "\n",
    "sorted_by_album = sorted(data, key=collection_id_extractor)\n",
    "album_groups = {}\n",
    "album_names = {}\n",
    "\n",
    "for album_id, songs in groupby(sorted_by_album, key=collection_id_extractor):\n",
    "    songs = list(songs)\n",
    "    album_groups[album_id] = songs \n",
    "    album_names[album_id] = songs[0]['collectionName']\n",
    "del sorted_by_album\n",
    "\n",
    "print(album_names)"
   ]
  },
  {
   "cell_type": "code",
   "execution_count": 34,
   "metadata": {},
   "outputs": [
    {
     "name": "stdout",
     "output_type": "stream",
     "text": [
      "Album name: Piano Man\n"
     ]
    }
   ],
   "source": [
    "Album_name = album_names[158617297]\n",
    "print('Album name:', Album_name)"
   ]
  },
  {
   "cell_type": "code",
   "execution_count": 33,
   "metadata": {},
   "outputs": [
    {
     "name": "stdout",
     "output_type": "stream",
     "text": [
      "Count of songs: 9\n"
     ]
    }
   ],
   "source": [
    "Album_value = list(album_groups[158617297])\n",
    "\n",
    "Count = lambda x: x['trackId']\n",
    "Count_Of_Album_Songs = len(list(set(map(Count, Album_value))))\n",
    "print('Count of songs:', Count_Of_Album_Songs)"
   ]
  },
  {
   "cell_type": "code",
   "execution_count": 32,
   "metadata": {},
   "outputs": [
    {
     "name": "stdout",
     "output_type": "stream",
     "text": [
      "Most popular genre: Rock - 9\n"
     ]
    }
   ],
   "source": [
    "Genre = lambda x: x['primaryGenreName']\n",
    "Popular_Genre = (list((map(Genre, Album_value))))\n",
    "if Popular_Genre.count('Pop') > Popular_Genre.count('Rock'):\n",
    "    print('Most popular genre:','Pop -', Popular_Genre.count('Pop'))\n",
    "else:\n",
    "    print('Most popular genre:','Rock -', Popular_Genre.count('Rock'))"
   ]
  },
  {
   "cell_type": "code",
   "execution_count": 31,
   "metadata": {},
   "outputs": [
    {
     "name": "stdout",
     "output_type": "stream",
     "text": [
      "Release date: You're My Home 1973-11-02 08:00:00+00:00\n"
     ]
    }
   ],
   "source": [
    "release_date_extractor = lambda x: x['releaseDate']\n",
    "\n",
    "Release_date = min(Album_value, key=release_date_extractor)\n",
    "print('Release date:', Release_date['trackName'], Release_date['releaseDate'])"
   ]
  },
  {
   "cell_type": "code",
   "execution_count": 30,
   "metadata": {},
   "outputs": [
    {
     "name": "stdout",
     "output_type": "stream",
     "text": [
      "Price of all songs: 11.61 $\n",
      "Average price of songs: 1.29 $\n",
      "Median of songs cost: 1.29 $\n",
      "Expensive song: Piano Man 1.29 $\n",
      "Cheap song: Piano Man 1.29 $\n"
     ]
    }
   ],
   "source": [
    "Album_Song_cost = lambda x: x['trackPrice']\n",
    "\n",
    "All_album_price = sum(list(map(Album_Song_cost, Album_value)))\n",
    "print('Price of all songs:', All_album_price, '$')\n",
    "\n",
    "Average_album_price = All_album_price / Count_Of_Album_Songs\n",
    "print('Average price of songs:', Average_album_price, '$')\n",
    "\n",
    "Median_album_cost = list(map(Album_Song_cost, Album_value))\n",
    "import statistics\n",
    "print('Median of songs cost:', statistics.median(Median_album_cost), '$')\n",
    "\n",
    "Expensive_album_song = max(Album_value, key=Album_Song_cost)\n",
    "print('Expensive song:', Expensive_album_song['trackName'], Expensive_album_song['trackPrice'],'$')\n",
    "\n",
    "Cheap_album_song = min(Album_value, key=Album_Song_cost)\n",
    "if Cheap_album_song['trackPrice'] == -1 : \n",
    "    print('Cheap song:', Cheap_album_song['trackName'],'Free')\n",
    "else:\n",
    "    print('Cheap song:', Cheap_album_song['trackName'], Cheap_album_song['trackPrice'], '$')"
   ]
  }
 ],
 "metadata": {
  "kernelspec": {
   "display_name": "Python 3.10.7 64-bit",
   "language": "python",
   "name": "python3"
  },
  "language_info": {
   "codemirror_mode": {
    "name": "ipython",
    "version": 3
   },
   "file_extension": ".py",
   "mimetype": "text/x-python",
   "name": "python",
   "nbconvert_exporter": "python",
   "pygments_lexer": "ipython3",
   "version": "3.10.7"
  },
  "orig_nbformat": 4,
  "vscode": {
   "interpreter": {
    "hash": "2469a70536e4d2335a2ea8907942d0699c37342a371ac185bdb5b0aa6f073890"
   }
  }
 },
 "nbformat": 4,
 "nbformat_minor": 2
}
